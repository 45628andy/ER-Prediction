{
 "cells": [
  {
   "cell_type": "code",
   "execution_count": 1,
   "metadata": {},
   "outputs": [],
   "source": [
    "import os\n",
    "import tensorflow as tf\n",
    "import numpy as np\n",
    "import pandas as pd\n",
    "from matplotlib import pyplot as plt\n",
    "\n",
    "from dataset_path import output_path\n",
    "\n",
    "path = output_path"
   ]
  },
  {
   "attachments": {},
   "cell_type": "markdown",
   "metadata": {},
   "source": [
    "## Importing Datasets"
   ]
  },
  {
   "cell_type": "code",
   "execution_count": 16,
   "metadata": {},
   "outputs": [],
   "source": [
    "df_train = pd.read_csv((os.path.join(path, 'train.csv')))\n",
    "df_test = pd.read_csv((os.path.join(path, 'test.csv')))"
   ]
  },
  {
   "cell_type": "code",
   "execution_count": 17,
   "metadata": {},
   "outputs": [
    {
     "name": "stderr",
     "output_type": "stream",
     "text": [
      "C:\\Users\\andyw\\AppData\\Local\\Temp\\ipykernel_24164\\3446409915.py:2: FutureWarning: The frame.append method is deprecated and will be removed from pandas in a future version. Use pandas.concat instead.\n",
      "  df = df.append(df_test)\n"
     ]
    }
   ],
   "source": [
    "df = df_train\n",
    "df = df.append(df_test)\n",
    "df = df[['stay_id','subject_id','gender','age','race','arrival_transport', 'disposition',\n",
    "         'ethnicity','insurance',\"outcome_hospitalization\"]]"
   ]
  },
  {
   "cell_type": "code",
   "execution_count": 18,
   "metadata": {},
   "outputs": [
    {
     "data": {
      "text/html": [
       "<div>\n",
       "<style scoped>\n",
       "    .dataframe tbody tr th:only-of-type {\n",
       "        vertical-align: middle;\n",
       "    }\n",
       "\n",
       "    .dataframe tbody tr th {\n",
       "        vertical-align: top;\n",
       "    }\n",
       "\n",
       "    .dataframe thead th {\n",
       "        text-align: right;\n",
       "    }\n",
       "</style>\n",
       "<table border=\"1\" class=\"dataframe\">\n",
       "  <thead>\n",
       "    <tr style=\"text-align: right;\">\n",
       "      <th></th>\n",
       "      <th>stay_id</th>\n",
       "      <th>subject_id</th>\n",
       "      <th>gender</th>\n",
       "      <th>age</th>\n",
       "      <th>race</th>\n",
       "      <th>arrival_transport</th>\n",
       "      <th>disposition</th>\n",
       "      <th>ethnicity</th>\n",
       "      <th>insurance</th>\n",
       "      <th>outcome_hospitalization</th>\n",
       "    </tr>\n",
       "  </thead>\n",
       "  <tbody>\n",
       "    <tr>\n",
       "      <th>0</th>\n",
       "      <td>32336955</td>\n",
       "      <td>14328106</td>\n",
       "      <td>F</td>\n",
       "      <td>75</td>\n",
       "      <td>WHITE</td>\n",
       "      <td>WALK IN</td>\n",
       "      <td>HOME</td>\n",
       "      <td>NaN</td>\n",
       "      <td>NaN</td>\n",
       "      <td>False</td>\n",
       "    </tr>\n",
       "    <tr>\n",
       "      <th>1</th>\n",
       "      <td>35614382</td>\n",
       "      <td>18860711</td>\n",
       "      <td>F</td>\n",
       "      <td>28</td>\n",
       "      <td>WHITE</td>\n",
       "      <td>WALK IN</td>\n",
       "      <td>HOME</td>\n",
       "      <td>NaN</td>\n",
       "      <td>NaN</td>\n",
       "      <td>False</td>\n",
       "    </tr>\n",
       "    <tr>\n",
       "      <th>2</th>\n",
       "      <td>37485359</td>\n",
       "      <td>16860825</td>\n",
       "      <td>F</td>\n",
       "      <td>61</td>\n",
       "      <td>BLACK/AFRICAN AMERICAN</td>\n",
       "      <td>AMBULANCE</td>\n",
       "      <td>HOME</td>\n",
       "      <td>BLACK/AFRICAN AMERICAN</td>\n",
       "      <td>NaN</td>\n",
       "      <td>False</td>\n",
       "    </tr>\n",
       "    <tr>\n",
       "      <th>3</th>\n",
       "      <td>34783406</td>\n",
       "      <td>14971343</td>\n",
       "      <td>F</td>\n",
       "      <td>83</td>\n",
       "      <td>BLACK/AFRICAN AMERICAN</td>\n",
       "      <td>WALK IN</td>\n",
       "      <td>ADMITTED</td>\n",
       "      <td>BLACK/AFRICAN AMERICAN</td>\n",
       "      <td>Medicare</td>\n",
       "      <td>True</td>\n",
       "    </tr>\n",
       "    <tr>\n",
       "      <th>4</th>\n",
       "      <td>39707189</td>\n",
       "      <td>11648387</td>\n",
       "      <td>M</td>\n",
       "      <td>70</td>\n",
       "      <td>WHITE</td>\n",
       "      <td>WALK IN</td>\n",
       "      <td>HOME</td>\n",
       "      <td>WHITE</td>\n",
       "      <td>NaN</td>\n",
       "      <td>False</td>\n",
       "    </tr>\n",
       "    <tr>\n",
       "      <th>...</th>\n",
       "      <td>...</td>\n",
       "      <td>...</td>\n",
       "      <td>...</td>\n",
       "      <td>...</td>\n",
       "      <td>...</td>\n",
       "      <td>...</td>\n",
       "      <td>...</td>\n",
       "      <td>...</td>\n",
       "      <td>...</td>\n",
       "      <td>...</td>\n",
       "    </tr>\n",
       "    <tr>\n",
       "      <th>83615</th>\n",
       "      <td>38635871</td>\n",
       "      <td>19999018</td>\n",
       "      <td>F</td>\n",
       "      <td>42</td>\n",
       "      <td>MULTIPLE RACE/ETHNICITY</td>\n",
       "      <td>WALK IN</td>\n",
       "      <td>HOME</td>\n",
       "      <td>NaN</td>\n",
       "      <td>NaN</td>\n",
       "      <td>False</td>\n",
       "    </tr>\n",
       "    <tr>\n",
       "      <th>83616</th>\n",
       "      <td>36370988</td>\n",
       "      <td>19999043</td>\n",
       "      <td>F</td>\n",
       "      <td>36</td>\n",
       "      <td>WHITE</td>\n",
       "      <td>AMBULANCE</td>\n",
       "      <td>HOME</td>\n",
       "      <td>WHITE</td>\n",
       "      <td>NaN</td>\n",
       "      <td>False</td>\n",
       "    </tr>\n",
       "    <tr>\n",
       "      <th>83617</th>\n",
       "      <td>39012698</td>\n",
       "      <td>19999156</td>\n",
       "      <td>F</td>\n",
       "      <td>62</td>\n",
       "      <td>WHITE</td>\n",
       "      <td>WALK IN</td>\n",
       "      <td>HOME</td>\n",
       "      <td>WHITE</td>\n",
       "      <td>Other</td>\n",
       "      <td>True</td>\n",
       "    </tr>\n",
       "    <tr>\n",
       "      <th>83618</th>\n",
       "      <td>34469189</td>\n",
       "      <td>19999175</td>\n",
       "      <td>M</td>\n",
       "      <td>21</td>\n",
       "      <td>WHITE</td>\n",
       "      <td>WALK IN</td>\n",
       "      <td>HOME</td>\n",
       "      <td>NaN</td>\n",
       "      <td>NaN</td>\n",
       "      <td>False</td>\n",
       "    </tr>\n",
       "    <tr>\n",
       "      <th>83619</th>\n",
       "      <td>30402875</td>\n",
       "      <td>19999466</td>\n",
       "      <td>M</td>\n",
       "      <td>33</td>\n",
       "      <td>OTHER</td>\n",
       "      <td>AMBULANCE</td>\n",
       "      <td>TRANSFER</td>\n",
       "      <td>OTHER</td>\n",
       "      <td>Medicare</td>\n",
       "      <td>True</td>\n",
       "    </tr>\n",
       "  </tbody>\n",
       "</table>\n",
       "<p>418100 rows × 10 columns</p>\n",
       "</div>"
      ],
      "text/plain": [
       "        stay_id  subject_id gender  age                     race  \\\n",
       "0      32336955    14328106      F   75                    WHITE   \n",
       "1      35614382    18860711      F   28                    WHITE   \n",
       "2      37485359    16860825      F   61   BLACK/AFRICAN AMERICAN   \n",
       "3      34783406    14971343      F   83   BLACK/AFRICAN AMERICAN   \n",
       "4      39707189    11648387      M   70                    WHITE   \n",
       "...         ...         ...    ...  ...                      ...   \n",
       "83615  38635871    19999018      F   42  MULTIPLE RACE/ETHNICITY   \n",
       "83616  36370988    19999043      F   36                    WHITE   \n",
       "83617  39012698    19999156      F   62                    WHITE   \n",
       "83618  34469189    19999175      M   21                    WHITE   \n",
       "83619  30402875    19999466      M   33                    OTHER   \n",
       "\n",
       "      arrival_transport disposition               ethnicity insurance  \\\n",
       "0               WALK IN        HOME                     NaN       NaN   \n",
       "1               WALK IN        HOME                     NaN       NaN   \n",
       "2             AMBULANCE        HOME  BLACK/AFRICAN AMERICAN       NaN   \n",
       "3               WALK IN    ADMITTED  BLACK/AFRICAN AMERICAN  Medicare   \n",
       "4               WALK IN        HOME                   WHITE       NaN   \n",
       "...                 ...         ...                     ...       ...   \n",
       "83615           WALK IN        HOME                     NaN       NaN   \n",
       "83616         AMBULANCE        HOME                   WHITE       NaN   \n",
       "83617           WALK IN        HOME                   WHITE     Other   \n",
       "83618           WALK IN        HOME                     NaN       NaN   \n",
       "83619         AMBULANCE    TRANSFER                   OTHER  Medicare   \n",
       "\n",
       "       outcome_hospitalization  \n",
       "0                        False  \n",
       "1                        False  \n",
       "2                        False  \n",
       "3                         True  \n",
       "4                        False  \n",
       "...                        ...  \n",
       "83615                    False  \n",
       "83616                    False  \n",
       "83617                     True  \n",
       "83618                    False  \n",
       "83619                     True  \n",
       "\n",
       "[418100 rows x 10 columns]"
      ]
     },
     "execution_count": 18,
     "metadata": {},
     "output_type": "execute_result"
    }
   ],
   "source": [
    "df"
   ]
  },
  {
   "cell_type": "code",
   "execution_count": 22,
   "metadata": {},
   "outputs": [
    {
     "data": {
      "text/plain": [
       "197824"
      ]
     },
     "execution_count": 22,
     "metadata": {},
     "output_type": "execute_result"
    }
   ],
   "source": [
    "np.sum(df.outcome_hospitalization)"
   ]
  },
  {
   "attachments": {},
   "cell_type": "markdown",
   "metadata": {},
   "source": [
    "## Age and Gender|"
   ]
  },
  {
   "cell_type": "code",
   "execution_count": 19,
   "metadata": {},
   "outputs": [
    {
     "data": {
      "text/plain": [
       "count    418100.000000\n",
       "mean         52.834544\n",
       "std          20.605357\n",
       "min          18.000000\n",
       "25%          35.000000\n",
       "50%          53.000000\n",
       "75%          69.000000\n",
       "max         103.000000\n",
       "Name: age, dtype: float64"
      ]
     },
     "execution_count": 19,
     "metadata": {},
     "output_type": "execute_result"
    }
   ],
   "source": [
    "df.age.describe()"
   ]
  },
  {
   "cell_type": "code",
   "execution_count": 20,
   "metadata": {},
   "outputs": [
    {
     "data": {
      "text/plain": [
       "count    197824.000000\n",
       "mean         60.074556\n",
       "std          19.492371\n",
       "min          18.000000\n",
       "25%          47.000000\n",
       "50%          62.000000\n",
       "75%          75.000000\n",
       "max         103.000000\n",
       "Name: age, dtype: float64"
      ]
     },
     "execution_count": 20,
     "metadata": {},
     "output_type": "execute_result"
    }
   ],
   "source": [
    "df[df['outcome_hospitalization']].age.describe()"
   ]
  },
  {
   "cell_type": "code",
   "execution_count": 21,
   "metadata": {},
   "outputs": [
    {
     "data": {
      "text/plain": [
       "count    220276.000000\n",
       "mean         46.332483\n",
       "std          19.372915\n",
       "min          18.000000\n",
       "25%          29.000000\n",
       "50%          45.000000\n",
       "75%          61.000000\n",
       "max         102.000000\n",
       "Name: age, dtype: float64"
      ]
     },
     "execution_count": 21,
     "metadata": {},
     "output_type": "execute_result"
    }
   ],
   "source": [
    "df[df['outcome_hospitalization'] == False].age.describe()"
   ]
  },
  {
   "cell_type": "code",
   "execution_count": 23,
   "metadata": {},
   "outputs": [
    {
     "data": {
      "text/plain": [
       "count     418100\n",
       "unique         2\n",
       "top            F\n",
       "freq      227007\n",
       "Name: gender, dtype: object"
      ]
     },
     "execution_count": 23,
     "metadata": {},
     "output_type": "execute_result"
    }
   ],
   "source": [
    "df.gender.describe()"
   ]
  },
  {
   "cell_type": "code",
   "execution_count": 24,
   "metadata": {},
   "outputs": [
    {
     "data": {
      "text/plain": [
       "count     197824\n",
       "unique         2\n",
       "top            F\n",
       "freq      100252\n",
       "Name: gender, dtype: object"
      ]
     },
     "execution_count": 24,
     "metadata": {},
     "output_type": "execute_result"
    }
   ],
   "source": [
    "df[df['outcome_hospitalization']].gender.describe()"
   ]
  },
  {
   "cell_type": "code",
   "execution_count": 25,
   "metadata": {},
   "outputs": [
    {
     "data": {
      "text/plain": [
       "count     220276\n",
       "unique         2\n",
       "top            F\n",
       "freq      126755\n",
       "Name: gender, dtype: object"
      ]
     },
     "execution_count": 25,
     "metadata": {},
     "output_type": "execute_result"
    }
   ],
   "source": [
    "df[df['outcome_hospitalization'] == False].gender.describe()"
   ]
  },
  {
   "attachments": {},
   "cell_type": "markdown",
   "metadata": {},
   "source": [
    "## Racial Composition"
   ]
  },
  {
   "cell_type": "code",
   "execution_count": 27,
   "metadata": {},
   "outputs": [],
   "source": [
    "race_single = df.race.apply(lambda x: x.split(' ')[0])"
   ]
  },
  {
   "cell_type": "code",
   "execution_count": 28,
   "metadata": {},
   "outputs": [],
   "source": [
    "race_single[race_single == 'BLACK/CAPE'] = 'BLACK/AFRICAN'\n",
    "race_single[race_single == 'BLACK/CARIBBEAN'] = 'BLACK/AFRICAN'\n",
    "\n",
    "race_single[race_single == 'HISPANIC'] = 'HISPANIC/LATINO'\n",
    "race_single[race_single == 'SOUTH'] = 'HISPANIC/LATINO'\n",
    "\n",
    "race_single[race_single == 'AMERICAN'] = 'NATIVE'\n",
    "\n",
    "race_single[race_single == 'PORTUGUESE'] = 'WHITE'"
   ]
  },
  {
   "cell_type": "code",
   "execution_count": 29,
   "metadata": {},
   "outputs": [],
   "source": [
    "df['race_single'] = race_single"
   ]
  },
  {
   "cell_type": "code",
   "execution_count": 30,
   "metadata": {},
   "outputs": [
    {
     "data": {
      "text/plain": [
       "WHITE              244093\n",
       "BLACK/AFRICAN       92168\n",
       "HISPANIC/LATINO     35205\n",
       "OTHER               20357\n",
       "ASIAN               18321\n",
       "UNKNOWN              5442\n",
       "NATIVE               1507\n",
       "PATIENT               599\n",
       "MULTIPLE              272\n",
       "UNABLE                136\n",
       "Name: race, dtype: int64"
      ]
     },
     "execution_count": 30,
     "metadata": {},
     "output_type": "execute_result"
    }
   ],
   "source": [
    "race_single.value_counts()"
   ]
  },
  {
   "cell_type": "code",
   "execution_count": 31,
   "metadata": {},
   "outputs": [
    {
     "data": {
      "text/plain": [
       "WHITE              130104\n",
       "BLACK/AFRICAN       36224\n",
       "HISPANIC/LATINO     12295\n",
       "OTHER                7583\n",
       "ASIAN                7124\n",
       "UNKNOWN              3289\n",
       "NATIVE                774\n",
       "PATIENT               246\n",
       "UNABLE                 98\n",
       "MULTIPLE               87\n",
       "Name: race_single, dtype: int64"
      ]
     },
     "execution_count": 31,
     "metadata": {},
     "output_type": "execute_result"
    }
   ],
   "source": [
    "df[df['outcome_hospitalization']].race_single.value_counts()"
   ]
  },
  {
   "cell_type": "code",
   "execution_count": 32,
   "metadata": {},
   "outputs": [
    {
     "data": {
      "text/plain": [
       "WHITE              113989\n",
       "BLACK/AFRICAN       55944\n",
       "HISPANIC/LATINO     22910\n",
       "OTHER               12774\n",
       "ASIAN               11197\n",
       "UNKNOWN              2153\n",
       "NATIVE                733\n",
       "PATIENT               353\n",
       "MULTIPLE              185\n",
       "UNABLE                 38\n",
       "Name: race_single, dtype: int64"
      ]
     },
     "execution_count": 32,
     "metadata": {},
     "output_type": "execute_result"
    }
   ],
   "source": [
    "df[df['outcome_hospitalization'] == False].race_single.value_counts()"
   ]
  },
  {
   "cell_type": "code",
   "execution_count": null,
   "metadata": {},
   "outputs": [],
   "source": []
  }
 ],
 "metadata": {
  "kernelspec": {
   "display_name": "base",
   "language": "python",
   "name": "python3"
  },
  "language_info": {
   "codemirror_mode": {
    "name": "ipython",
    "version": 3
   },
   "file_extension": ".py",
   "mimetype": "text/x-python",
   "name": "python",
   "nbconvert_exporter": "python",
   "pygments_lexer": "ipython3",
   "version": "3.9.13"
  },
  "orig_nbformat": 4
 },
 "nbformat": 4,
 "nbformat_minor": 2
}
